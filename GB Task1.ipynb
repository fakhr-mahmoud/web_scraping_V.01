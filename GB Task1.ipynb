{
 "cells": [
  {
   "cell_type": "code",
   "execution_count": null,
   "metadata": {},
   "outputs": [],
   "source": [
    "import requests\n",
    "from bs4 import BeautifulSoup"
   ]
  },
  {
   "cell_type": "code",
   "execution_count": null,
   "metadata": {},
   "outputs": [],
   "source": [
    "URL= 'https://www.bbc.com/'\n",
    "\n",
    "#Get the HTML for each article.\n",
    "page_html= requests.get(URL)\n",
    "page_soup= BeautifulSoup(page_html.content , 'html.parser')\n",
    "results = page_soup.find_all(\"a\", {\"class\":\"block-link__overlay-link\"})\n",
    "\n",
    "#extract the article title from the HTML.\n",
    "for result in results:\n",
    "    print(result.text)"
   ]
  },
  {
   "cell_type": "code",
   "execution_count": null,
   "metadata": {},
   "outputs": [],
   "source": [
    "list=[]\n",
    "links=[]\n",
    "#extract the link of each article.\n",
    "for result in range(len(results)) :\n",
    "    list.append(results[result].text)\n",
    "    links.append(results[result]['href'])\n",
    "\n",
    "#arrange links list\n",
    "for result in range(len(list)):\n",
    "    temp = list[result]\n",
    "    list[result]=temp[2:].strip()\n"
   ]
  },
  {
   "cell_type": "code",
   "execution_count": null,
   "metadata": {
    "scrolled": true
   },
   "outputs": [],
   "source": [
    "\n",
    "\n",
    "NewLinks = []\n",
    "#add (www.bbc.com) to uncompleted links. \n",
    "for link in links:\n",
    "    if 'www'not in link:\n",
    "        NewLink = link.replace(\"/\", \"www.bbc.com/\",1)\n",
    "        NewLinks.append(NewLink)\n",
    "    else:\n",
    "        NewLinks.append(link)\n",
    "\n",
    "print(NewLinks)"
   ]
  },
  {
   "cell_type": "code",
   "execution_count": null,
   "metadata": {},
   "outputs": [],
   "source": [
    "#Extract the Tags and print it.\n",
    "Tags = page_soup.find_all(\"a\", {\"class\":\"media__tag\"})\n",
    "for tag in Tags:\n",
    "    print(tag.text)"
   ]
  },
  {
   "cell_type": "code",
   "execution_count": null,
   "metadata": {},
   "outputs": [],
   "source": []
  }
 ],
 "metadata": {
  "kernelspec": {
   "display_name": "Python 3",
   "language": "python",
   "name": "python3"
  },
  "language_info": {
   "codemirror_mode": {
    "name": "ipython",
    "version": 3
   },
   "file_extension": ".py",
   "mimetype": "text/x-python",
   "name": "python",
   "nbconvert_exporter": "python",
   "pygments_lexer": "ipython3",
   "version": "3.7.4"
  }
 },
 "nbformat": 4,
 "nbformat_minor": 2
}
